{
  "nbformat": 4,
  "nbformat_minor": 0,
  "metadata": {
    "colab": {
      "name": "climbing ",
      "provenance": [],
      "authorship_tag": "ABX9TyPr1u92aZMMUCe5lwvvFzUx",
      "include_colab_link": true
    },
    "kernelspec": {
      "name": "ir",
      "display_name": "R"
    },
    "language_info": {
      "name": "R"
    }
  },
  "cells": [
    {
      "cell_type": "markdown",
      "metadata": {
        "id": "view-in-github",
        "colab_type": "text"
      },
      "source": [
        "<a href=\"https://colab.research.google.com/github/qntkhvn/climbing/blob/main/R/climbing.ipynb\" target=\"_parent\"><img src=\"https://colab.research.google.com/assets/colab-badge.svg\" alt=\"Open In Colab\"/></a>"
      ]
    },
    {
      "cell_type": "markdown",
      "metadata": {
        "id": "eGpJSSFe3Jmb"
      },
      "source": [
        "Notebook: https://colab.research.google.com/drive/1GmgUJaMOVLM9cXAgVrTKJEPD71k6GTnu?usp=sharing"
      ]
    },
    {
      "cell_type": "code",
      "metadata": {
        "id": "1Efb_Eys3EsX"
      },
      "source": [
        "# install.packages(\"tidyverse\")\n",
        "library(tidyverse)\n",
        "theme_set(theme_light())"
      ],
      "execution_count": null,
      "outputs": []
    },
    {
      "cell_type": "markdown",
      "metadata": {
        "id": "kAannSd_7qt7"
      },
      "source": [
        "# Qualification\n",
        "\n",
        "Note: 20 athletes participate in qualification. 8 advance to final round.\n",
        "\n",
        "Try 10000 sims for now."
      ]
    },
    {
      "cell_type": "code",
      "metadata": {
        "id": "z1fFHrCbZzyb"
      },
      "source": [
        "set.seed(1)\n",
        "nsim <- 10000\n",
        "nplay <- 20\n",
        "qual_sim <- list()\n",
        "for (i in 1:nsim) {\n",
        "  qual_sim[[i]] <-\n",
        "    bind_cols(\n",
        "      player = 1:nplay,\n",
        "      e1 = sample(1:nplay, replace = FALSE),\n",
        "      e2 = sample(1:nplay, replace = FALSE),\n",
        "      e3 = sample(1:nplay, replace = FALSE)\n",
        "    ) %>%\n",
        "    mutate(sim = i)\n",
        "}\n",
        "\n",
        "qual <- bind_rows(qual_sim)\n",
        "\n",
        "qual <- qual %>% \n",
        "  mutate(qual_score = e1 * e2 * e3) %>% \n",
        "  group_by(sim) %>% \n",
        "  mutate(qual_rank = rank(qual_score, ties.method = \"random\")) %>%\n",
        "  ungroup()"
      ],
      "execution_count": null,
      "outputs": []
    },
    {
      "cell_type": "code",
      "metadata": {
        "colab": {
          "base_uri": "https://localhost:8080/",
          "height": 472
        },
        "id": "kNCXh-xuSbPt",
        "outputId": "a667df4e-8ace-4b17-9bdf-4688418d8564"
      },
      "source": [
        "qual %>%\n",
        "  ggplot(aes(qual_score)) +\n",
        "  geom_histogram()"
      ],
      "execution_count": null,
      "outputs": [
        {
          "output_type": "stream",
          "text": [
            "`stat_bin()` using `bins = 30`. Pick better value with `binwidth`.\n",
            "\n"
          ],
          "name": "stderr"
        },
        {
          "output_type": "display_data",
          "data": {
            "image/png": "[encoded data removed]",
            "text/plain": [
              "plot without title"
            ]
          },
          "metadata": {
            "tags": [],
            "image/png": {
              "width": 420,
              "height": 420
            }
          }
        }
      ]
    },
    {
      "cell_type": "markdown",
      "metadata": {
        "id": "2hOIEyAeaEDP"
      },
      "source": [
        "## If you win the first event, what is the probability that you advance?\n",
        "\n",
        "Rephrase: Prob of advancing (rank >= 8) given winning first event 1\n",
        "\n",
        "P(advance|win e1) = P(advance and win e1) / P(win e1)\n"
      ]
    },
    {
      "cell_type": "code",
      "metadata": {
        "colab": {
          "base_uri": "https://localhost:8080/",
          "height": 33
        },
        "id": "wCq5YQ68Z-1e",
        "outputId": "446a97fe-b213-4e91-a343-6daf961c3ded"
      },
      "source": [
        "qual %>% \n",
        "  filter(e1 == 1 & qual_rank <= 8) %>% \n",
        "  nrow()"
      ],
      "execution_count": null,
      "outputs": [
        {
          "output_type": "display_data",
          "data": {
            "text/plain": [
              "[1] 9951"
            ],
            "text/latex": "9951",
            "text/markdown": "9951",
            "text/html": [
              "9951"
            ]
          },
          "metadata": {
            "tags": []
          }
        }
      ]
    },
    {
      "cell_type": "markdown",
      "metadata": {
        "id": "WMFhQ0-shyfH"
      },
      "source": [
        "So 9951/10000 = 0.9951? "
      ]
    },
    {
      "cell_type": "markdown",
      "metadata": {
        "id": "yRbU5fokaPAx"
      },
      "source": [
        "## If you win ANY event, what is the probability you advance?  "
      ]
    },
    {
      "cell_type": "code",
      "metadata": {
        "colab": {
          "base_uri": "https://localhost:8080/",
          "height": 33
        },
        "id": "FtYf3Jj0aP6o",
        "outputId": "6bf1c1df-979d-4a2e-96be-d0ac9421cc89"
      },
      "source": [
        "qual %>% \n",
        "  filter(e1 == 1 | e2 == 1 | e3 == 1) %>%\n",
        "  nrow()"
      ],
      "execution_count": null,
      "outputs": [
        {
          "output_type": "display_data",
          "data": {
            "text/plain": [
              "[1] 28569"
            ],
            "text/latex": "28569",
            "text/markdown": "28569",
            "text/html": [
              "28569"
            ]
          },
          "metadata": {
            "tags": []
          }
        }
      ]
    },
    {
      "cell_type": "code",
      "metadata": {
        "colab": {
          "base_uri": "https://localhost:8080/",
          "height": 33
        },
        "id": "0RfE75zNiLzF",
        "outputId": "6ef0bd1e-bf83-4155-80f7-48efa3d44f03"
      },
      "source": [
        "qual %>% \n",
        "  filter((e1 == 1 | e2 == 1 | e3 == 1) & qual_rank <= 8) %>% \n",
        "  nrow()"
      ],
      "execution_count": null,
      "outputs": [
        {
          "output_type": "display_data",
          "data": {
            "text/plain": [
              "[1] 28420"
            ],
            "text/latex": "28420",
            "text/markdown": "28420",
            "text/html": [
              "28420"
            ]
          },
          "metadata": {
            "tags": []
          }
        }
      ]
    },
    {
      "cell_type": "code",
      "metadata": {
        "colab": {
          "base_uri": "https://localhost:8080/",
          "height": 33
        },
        "id": "76h4qsS2iYqA",
        "outputId": "f330b817-d1ca-4ce9-96b6-77cb9295656b"
      },
      "source": [
        "28420/28569"
      ],
      "execution_count": null,
      "outputs": [
        {
          "output_type": "display_data",
          "data": {
            "text/plain": [
              "[1] 0.9947846"
            ],
            "text/latex": "0.994784556687318",
            "text/markdown": "0.994784556687318",
            "text/html": [
              "0.994784556687318"
            ]
          },
          "metadata": {
            "tags": []
          }
        }
      ]
    },
    {
      "cell_type": "markdown",
      "metadata": {
        "id": "HPzDY1tRarCN"
      },
      "source": [
        "## If you finish last in the first event, what is the probability of advancing? "
      ]
    },
    {
      "cell_type": "code",
      "metadata": {
        "colab": {
          "base_uri": "https://localhost:8080/",
          "height": 33
        },
        "id": "XwpRpgmjavc7",
        "outputId": "ee3ea99e-ea38-4832-928c-45d0890e415f"
      },
      "source": [
        "qual %>% \n",
        "  filter(e1 == 20 & qual_rank <= 8) %>% \n",
        "  nrow()"
      ],
      "execution_count": null,
      "outputs": [
        {
          "output_type": "display_data",
          "data": {
            "text/plain": [
              "[1] 1830"
            ],
            "text/latex": "1830",
            "text/markdown": "1830",
            "text/html": [
              "1830"
            ]
          },
          "metadata": {
            "tags": []
          }
        }
      ]
    },
    {
      "cell_type": "markdown",
      "metadata": {
        "id": "cNVr02zOimOI"
      },
      "source": [
        "0.1830"
      ]
    },
    {
      "cell_type": "markdown",
      "metadata": {
        "id": "V9R-1fYiay1m"
      },
      "source": [
        "## If you finish last in ANY event, what is the probability you advance? "
      ]
    },
    {
      "cell_type": "code",
      "metadata": {
        "colab": {
          "base_uri": "https://localhost:8080/",
          "height": 33
        },
        "id": "-bjCCIs9a3Mp",
        "outputId": "65e12efa-5a9e-4e50-eb51-dfcf31407501"
      },
      "source": [
        "qual %>% \n",
        "  filter(e1 == 20 | e2 == 20 | e3 == 20) %>% \n",
        "  nrow()"
      ],
      "execution_count": null,
      "outputs": [
        {
          "output_type": "display_data",
          "data": {
            "text/plain": [
              "[1] 28514"
            ],
            "text/latex": "28514",
            "text/markdown": "28514",
            "text/html": [
              "28514"
            ]
          },
          "metadata": {
            "tags": []
          }
        }
      ]
    },
    {
      "cell_type": "code",
      "metadata": {
        "colab": {
          "base_uri": "https://localhost:8080/",
          "height": 33
        },
        "id": "SGukNHLlir1F",
        "outputId": "b1a3f3b4-b8da-418c-8138-c1e4e3dfd888"
      },
      "source": [
        "qual %>% \n",
        "  filter((e1 == 20 | e2 == 20 | e3 == 20) & qual_rank <= 8) %>% \n",
        "  nrow()"
      ],
      "execution_count": null,
      "outputs": [
        {
          "output_type": "display_data",
          "data": {
            "text/plain": [
              "[1] 5376"
            ],
            "text/latex": "5376",
            "text/markdown": "5376",
            "text/html": [
              "5376"
            ]
          },
          "metadata": {
            "tags": []
          }
        }
      ]
    },
    {
      "cell_type": "code",
      "metadata": {
        "colab": {
          "base_uri": "https://localhost:8080/",
          "height": 33
        },
        "id": "Zyswq2ukiqGk",
        "outputId": "ccea0a18-4d8e-4732-d0fd-bb74ba53778d"
      },
      "source": [
        "5376/28514"
      ],
      "execution_count": null,
      "outputs": [
        {
          "output_type": "display_data",
          "data": {
            "text/plain": [
              "[1] 0.188539"
            ],
            "text/latex": "0.188538963316266",
            "text/markdown": "0.188538963316266",
            "text/html": [
              "0.188538963316266"
            ]
          },
          "metadata": {
            "tags": []
          }
        }
      ]
    },
    {
      "cell_type": "markdown",
      "metadata": {
        "id": "nU-724xfa924"
      },
      "source": [
        "## What is the score that guarantees that you advance/ do not advance? "
      ]
    },
    {
      "cell_type": "code",
      "metadata": {
        "colab": {
          "base_uri": "https://localhost:8080/",
          "height": 580
        },
        "id": "rExPgin1a-fQ",
        "outputId": "2b5ac2ca-6021-42e9-865b-9c3be9d960d8"
      },
      "source": [
        "qual %>%\n",
        "  filter(qual_rank == 8) %>%\n",
        "  summarize(avg_score_rank_8 = mean(qual_score))\n",
        "\n",
        "qual %>%\n",
        "  ggplot(aes(qual_score)) +\n",
        "  geom_histogram(color = \"gray\") +\n",
        "  geom_vline(xintercept = 434.6, size = 3, color = \"blue\")"
      ],
      "execution_count": null,
      "outputs": [
        {
          "output_type": "display_data",
          "data": {
            "text/plain": [
              "  avg_score_rank_8\n",
              "1 434.5932        "
            ],
            "text/latex": "A tibble: 1 × 1\n\\begin{tabular}{l}\n avg\\_score\\_rank\\_8\\\\\n <dbl>\\\\\n\\hline\n\t 434.5932\\\\\n\\end{tabular}\n",
            "text/markdown": "\nA tibble: 1 × 1\n\n| avg_score_rank_8 &lt;dbl&gt; |\n|---|\n| 434.5932 |\n\n",
            "text/html": [
              "<table class=\"dataframe\">\n",
              "<caption>A tibble: 1 × 1</caption>\n",
              "<thead>\n",
              "\t<tr><th scope=col>avg_score_rank_8</th></tr>\n",
              "\t<tr><th scope=col>&lt;dbl&gt;</th></tr>\n",
              "</thead>\n",
              "<tbody>\n",
              "\t<tr><td>434.5932</td></tr>\n",
              "</tbody>\n",
              "</table>\n"
            ]
          },
          "metadata": {
            "tags": []
          }
        },
        {
          "output_type": "stream",
          "text": [
            "`stat_bin()` using `bins = 30`. Pick better value with `binwidth`.\n",
            "\n"
          ],
          "name": "stderr"
        },
        {
          "output_type": "display_data",
          "data": {
            "image/png": "[encoded data removed]",
            "text/plain": [
              "plot without title"
            ]
          },
          "metadata": {
            "tags": [],
            "image/png": {
              "width": 420,
              "height": 420
            }
          }
        }
      ]
    },
    {
      "cell_type": "markdown",
      "metadata": {
        "id": "TILd2TMkbBBI"
      },
      "source": [
        "## What is the average score of someone who advances? "
      ]
    },
    {
      "cell_type": "code",
      "metadata": {
        "colab": {
          "base_uri": "https://localhost:8080/",
          "height": 334
        },
        "id": "Ygw_bGv2bDXf",
        "outputId": "fce075ef-851b-4a9c-963b-bab70d6a0be1"
      },
      "source": [
        "qual %>% \n",
        "  filter(qual_rank <= 8) %>% \n",
        "  group_by(qual_rank) %>% \n",
        "  summarize(avg_adv_score = mean(qual_score))"
      ],
      "execution_count": null,
      "outputs": [
        {
          "output_type": "display_data",
          "data": {
            "text/plain": [
              "  qual_rank avg_adv_score\n",
              "1 1          36.0187     \n",
              "2 2          73.6111     \n",
              "3 3         115.3954     \n",
              "4 4         162.2263     \n",
              "5 5         216.0041     \n",
              "6 6         278.1649     \n",
              "7 7         350.3272     \n",
              "8 8         434.5932     "
            ],
            "text/latex": "A tibble: 8 × 2\n\\begin{tabular}{ll}\n qual\\_rank & avg\\_adv\\_score\\\\\n <int> & <dbl>\\\\\n\\hline\n\t 1 &  36.0187\\\\\n\t 2 &  73.6111\\\\\n\t 3 & 115.3954\\\\\n\t 4 & 162.2263\\\\\n\t 5 & 216.0041\\\\\n\t 6 & 278.1649\\\\\n\t 7 & 350.3272\\\\\n\t 8 & 434.5932\\\\\n\\end{tabular}\n",
            "text/markdown": "\nA tibble: 8 × 2\n\n| qual_rank &lt;int&gt; | avg_adv_score &lt;dbl&gt; |\n|---|---|\n| 1 |  36.0187 |\n| 2 |  73.6111 |\n| 3 | 115.3954 |\n| 4 | 162.2263 |\n| 5 | 216.0041 |\n| 6 | 278.1649 |\n| 7 | 350.3272 |\n| 8 | 434.5932 |\n\n",
            "text/html": [
              "<table class=\"dataframe\">\n",
              "<caption>A tibble: 8 × 2</caption>\n",
              "<thead>\n",
              "\t<tr><th scope=col>qual_rank</th><th scope=col>avg_adv_score</th></tr>\n",
              "\t<tr><th scope=col>&lt;int&gt;</th><th scope=col>&lt;dbl&gt;</th></tr>\n",
              "</thead>\n",
              "<tbody>\n",
              "\t<tr><td>1</td><td> 36.0187</td></tr>\n",
              "\t<tr><td>2</td><td> 73.6111</td></tr>\n",
              "\t<tr><td>3</td><td>115.3954</td></tr>\n",
              "\t<tr><td>4</td><td>162.2263</td></tr>\n",
              "\t<tr><td>5</td><td>216.0041</td></tr>\n",
              "\t<tr><td>6</td><td>278.1649</td></tr>\n",
              "\t<tr><td>7</td><td>350.3272</td></tr>\n",
              "\t<tr><td>8</td><td>434.5932</td></tr>\n",
              "</tbody>\n",
              "</table>\n"
            ]
          },
          "metadata": {
            "tags": []
          }
        }
      ]
    },
    {
      "cell_type": "code",
      "metadata": {
        "colab": {
          "base_uri": "https://localhost:8080/",
          "height": 124
        },
        "id": "MWYxAT-DbIaH",
        "outputId": "2e61d063-8782-457a-b7fc-c32b125ff097"
      },
      "source": [
        "qual %>% \n",
        "  filter(qual_rank <= 8) %>% \n",
        "  ungroup() %>% \n",
        "  summarize(avg_adv_score_overall = mean(qual_score))"
      ],
      "execution_count": null,
      "outputs": [
        {
          "output_type": "display_data",
          "data": {
            "text/plain": [
              "  avg_adv_score_overall\n",
              "1 208.2926             "
            ],
            "text/latex": "A tibble: 1 × 1\n\\begin{tabular}{l}\n avg\\_adv\\_score\\_overall\\\\\n <dbl>\\\\\n\\hline\n\t 208.2926\\\\\n\\end{tabular}\n",
            "text/markdown": "\nA tibble: 1 × 1\n\n| avg_adv_score_overall &lt;dbl&gt; |\n|---|\n| 208.2926 |\n\n",
            "text/html": [
              "<table class=\"dataframe\">\n",
              "<caption>A tibble: 1 × 1</caption>\n",
              "<thead>\n",
              "\t<tr><th scope=col>avg_adv_score_overall</th></tr>\n",
              "\t<tr><th scope=col>&lt;dbl&gt;</th></tr>\n",
              "</thead>\n",
              "<tbody>\n",
              "\t<tr><td>208.2926</td></tr>\n",
              "</tbody>\n",
              "</table>\n"
            ]
          },
          "metadata": {
            "tags": []
          }
        }
      ]
    },
    {
      "cell_type": "markdown",
      "metadata": {
        "id": "ZRH_lI3_bNRn"
      },
      "source": [
        "## What is/are the distribution on the the first/second/etc. place qualifier? "
      ]
    },
    {
      "cell_type": "code",
      "metadata": {
        "colab": {
          "base_uri": "https://localhost:8080/",
          "height": 436
        },
        "id": "RMl7yiNFbQR2",
        "outputId": "ad0c1c52-cad9-46ff-c7b5-37981d3d609b"
      },
      "source": [
        "qual %>% \n",
        "  ggplot(aes(x = factor(qual_rank), y = qual_score)) +\n",
        "  geom_dotplot(binaxis = \"y\", binwidth = 1) + \n",
        "  coord_flip()"
      ],
      "execution_count": null,
      "outputs": [
        {
          "output_type": "display_data",
          "data": {
            "image/png": "[encoded data removed]",
            "text/plain": [
              "plot without title"
            ]
          },
          "metadata": {
            "tags": [],
            "image/png": {
              "width": 420,
              "height": 420
            }
          }
        }
      ]
    },
    {
      "cell_type": "code",
      "metadata": {
        "colab": {
          "base_uri": "https://localhost:8080/",
          "height": 472
        },
        "id": "VH9w_9A1bfXy",
        "outputId": "72ec6da4-39d2-49dc-a9fd-87acd044bf93"
      },
      "source": [
        "# install.packages(\"ggridges\")\n",
        "library(ggridges)\n",
        "qual %>% \n",
        "  ggplot(aes(x = qual_score, y = factor(qual_rank))) +\n",
        "  geom_density_ridges(rel_min_height = 0.01)"
      ],
      "execution_count": null,
      "outputs": [
        {
          "output_type": "stream",
          "text": [
            "Picking joint bandwidth of 39.8\n",
            "\n"
          ],
          "name": "stderr"
        },
        {
          "output_type": "display_data",
          "data": {
            "image/png": "[encoded data removed]",
            "text/plain": [
              "plot without title"
            ]
          },
          "metadata": {
            "tags": [],
            "image/png": {
              "width": 420,
              "height": 420
            }
          }
        }
      ]
    },
    {
      "cell_type": "markdown",
      "metadata": {
        "id": "ORed3V8kccGg"
      },
      "source": [
        "# Final Round"
      ]
    },
    {
      "cell_type": "code",
      "metadata": {
        "id": "sFf5Yac7cndC"
      },
      "source": [
        "set.seed(1)\n",
        "nsim <- 10000\n",
        "nplay <- 8\n",
        "final_sim <- list()\n",
        "for (i in 1:nsim) {\n",
        "  final_sim[[i]] <-\n",
        "    bind_cols(\n",
        "      player = 1:nplay,\n",
        "      e1 = sample(1:nplay, replace = FALSE),\n",
        "      e2 = sample(1:nplay, replace = FALSE),\n",
        "      e3 = sample(1:nplay, replace = FALSE)\n",
        "    ) %>%\n",
        "    mutate(sim = i)\n",
        "}\n",
        "\n",
        "final <- bind_rows(final_sim) \n",
        "\n",
        "final <- final %>% \n",
        "  mutate(final_score = e1 * e2 * e3) %>% \n",
        "  group_by(sim) %>% \n",
        "  mutate(final_rank = rank(final_score, ties.method = \"random\")) %>%\n",
        "  ungroup() "
      ],
      "execution_count": null,
      "outputs": []
    },
    {
      "cell_type": "markdown",
      "metadata": {
        "id": "BgXnn1sMcgbg"
      },
      "source": [
        "## If you win any event, what is the probability that you win a medal?"
      ]
    },
    {
      "cell_type": "code",
      "metadata": {
        "colab": {
          "base_uri": "https://localhost:8080/",
          "height": 66
        },
        "id": "obXw4uOvcfCD",
        "outputId": "6e6148e1-2bfe-466d-edc3-12311552bbfc"
      },
      "source": [
        "final %>% \n",
        "  filter(e1 == 1 | e2 == 1 | e3 == 1) %>% \n",
        "  nrow()\n",
        "\n",
        "final %>% \n",
        "  filter((e1 == 1 | e2 == 1 | e3 == 1) & final_rank <= 3) %>% \n",
        "  nrow()\n",
        "\n",
        "21985/26478"
      ],
      "execution_count": null,
      "outputs": [
        {
          "output_type": "display_data",
          "data": {
            "text/plain": [
              "[1] 26478"
            ],
            "text/latex": "26478",
            "text/markdown": "26478",
            "text/html": [
              "26478"
            ]
          },
          "metadata": {
            "tags": []
          }
        },
        {
          "output_type": "display_data",
          "data": {
            "text/plain": [
              "[1] 21979"
            ],
            "text/latex": "21979",
            "text/markdown": "21979",
            "text/html": [
              "21979"
            ]
          },
          "metadata": {
            "tags": []
          }
        },
        {
          "output_type": "display_data",
          "data": {
            "text/plain": [
              "[1] 0.830312"
            ],
            "text/latex": "0.830311957096457",
            "text/markdown": "0.830311957096457",
            "text/html": [
              "0.830311957096457"
            ]
          },
          "metadata": {
            "tags": []
          }
        }
      ]
    },
    {
      "cell_type": "markdown",
      "metadata": {
        "id": "axQW9idWcwLV"
      },
      "source": [
        "## If you win the first event, what is the probability you win a medal?"
      ]
    },
    {
      "cell_type": "code",
      "metadata": {
        "colab": {
          "base_uri": "https://localhost:8080/",
          "height": 33
        },
        "id": "G16Z8vfXczMi",
        "outputId": "cac93839-7b9b-4c6e-c894-d4eb33a7f3dd"
      },
      "source": [
        "final %>% \n",
        "  filter(e1 == 1 & final_rank <= 3) %>% \n",
        "  nrow()/10000"
      ],
      "execution_count": null,
      "outputs": [
        {
          "output_type": "display_data",
          "data": {
            "text/plain": [
              "[1] 0.8501"
            ],
            "text/latex": "0.8501",
            "text/markdown": "0.8501",
            "text/html": [
              "0.8501"
            ]
          },
          "metadata": {
            "tags": []
          }
        }
      ]
    },
    {
      "cell_type": "markdown",
      "metadata": {
        "id": "AyW0QeQQc-Il"
      },
      "source": [
        "## What is the distribution of the winners score?"
      ]
    },
    {
      "cell_type": "code",
      "metadata": {
        "colab": {
          "base_uri": "https://localhost:8080/",
          "height": 436
        },
        "id": "kA2P11gudA8L",
        "outputId": "910c22e1-9198-410e-f617-6fa505e1db51"
      },
      "source": [
        "# final %>%\n",
        "#   filter(final_rank == 1) %>%\n",
        "#   pull(final_score) %>%\n",
        "#   hist(main = \"Distribution of winning scores\")\n",
        "\n",
        "final %>% \n",
        "  filter(final_rank == 1) %>% \n",
        "  ggplot(aes(final_score)) + \n",
        "  geom_histogram(bins = 21, color = \"gray\")"
      ],
      "execution_count": null,
      "outputs": [
        {
          "output_type": "display_data",
          "data": {
            "image/png": "[encoded data removed]",
            "text/plain": [
              "plot without title"
            ]
          },
          "metadata": {
            "tags": [],
            "image/png": {
              "width": 420,
              "height": 420
            }
          }
        }
      ]
    },
    {
      "cell_type": "markdown",
      "metadata": {
        "id": "KM-Y7GGM2nhS"
      },
      "source": [
        "## What is the average score of medalists?"
      ]
    },
    {
      "cell_type": "code",
      "metadata": {
        "colab": {
          "base_uri": "https://localhost:8080/",
          "height": 1000
        },
        "id": "37e7-EsL2sfR",
        "outputId": "9828b50d-168a-47a0-b964-d015a75dc84b"
      },
      "source": [
        "final %>% \n",
        "  group_by(final_rank) %>% \n",
        "  summarize(avg_score = mean(final_score))\n",
        "\n",
        "final %>% \n",
        "  ggplot(aes(x = final_score, y = factor(final_rank))) +\n",
        "  geom_boxplot()\n",
        "\n",
        "final %>% \n",
        "  ggplot(aes(x = final_score, y = factor(final_rank))) +\n",
        "  geom_density_ridges(rel_min_height = 0.01)"
      ],
      "execution_count": null,
      "outputs": [
        {
          "output_type": "display_data",
          "data": {
            "text/plain": [
              "  final_rank avg_score\n",
              "1 1            9.6748 \n",
              "2 2           20.4143 \n",
              "3 3           33.2648 \n",
              "4 4           50.5933 \n",
              "5 5           74.7620 \n",
              "6 6          110.0536 \n",
              "7 7          164.4274 \n",
              "8 8          265.7760 "
            ],
            "text/latex": "A tibble: 8 × 2\n\\begin{tabular}{ll}\n final\\_rank & avg\\_score\\\\\n <int> & <dbl>\\\\\n\\hline\n\t 1 &   9.6748\\\\\n\t 2 &  20.4143\\\\\n\t 3 &  33.2648\\\\\n\t 4 &  50.5933\\\\\n\t 5 &  74.7620\\\\\n\t 6 & 110.0536\\\\\n\t 7 & 164.4274\\\\\n\t 8 & 265.7760\\\\\n\\end{tabular}\n",
            "text/markdown": "\nA tibble: 8 × 2\n\n| final_rank &lt;int&gt; | avg_score &lt;dbl&gt; |\n|---|---|\n| 1 |   9.6748 |\n| 2 |  20.4143 |\n| 3 |  33.2648 |\n| 4 |  50.5933 |\n| 5 |  74.7620 |\n| 6 | 110.0536 |\n| 7 | 164.4274 |\n| 8 | 265.7760 |\n\n",
            "text/html": [
              "<table class=\"dataframe\">\n",
              "<caption>A tibble: 8 × 2</caption>\n",
              "<thead>\n",
              "\t<tr><th scope=col>final_rank</th><th scope=col>avg_score</th></tr>\n",
              "\t<tr><th scope=col>&lt;int&gt;</th><th scope=col>&lt;dbl&gt;</th></tr>\n",
              "</thead>\n",
              "<tbody>\n",
              "\t<tr><td>1</td><td>  9.6748</td></tr>\n",
              "\t<tr><td>2</td><td> 20.4143</td></tr>\n",
              "\t<tr><td>3</td><td> 33.2648</td></tr>\n",
              "\t<tr><td>4</td><td> 50.5933</td></tr>\n",
              "\t<tr><td>5</td><td> 74.7620</td></tr>\n",
              "\t<tr><td>6</td><td>110.0536</td></tr>\n",
              "\t<tr><td>7</td><td>164.4274</td></tr>\n",
              "\t<tr><td>8</td><td>265.7760</td></tr>\n",
              "</tbody>\n",
              "</table>\n"
            ]
          },
          "metadata": {
            "tags": []
          }
        },
        {
          "output_type": "stream",
          "text": [
            "Picking joint bandwidth of 4.25\n",
            "\n"
          ],
          "name": "stderr"
        },
        {
          "output_type": "display_data",
          "data": {
            "image/png": "[encoded data removed]",
            "text/plain": [
              "plot without title"
            ]
          },
          "metadata": {
            "tags": [],
            "image/png": {
              "width": 420,
              "height": 420
            }
          }
        },
        {
          "output_type": "display_data",
          "data": {
            "image/png": "[encoded data removed]",
            "text/plain": [
              "plot without title"
            ]
          },
          "metadata": {
            "tags": [],
            "image/png": {
              "width": 420,
              "height": 420
            }
          }
        }
      ]
    },
    {
      "cell_type": "markdown",
      "metadata": {
        "id": "YRjaNu7Df5f-"
      },
      "source": [
        "# Sum of ranks instead of Product"
      ]
    },
    {
      "cell_type": "code",
      "metadata": {
        "id": "0jnF9Y6aKyx2"
      },
      "source": [
        "# qualification\n",
        "set.seed(1)\n",
        "nsim <- 10000\n",
        "nplay <- 20\n",
        "qsim <- list()\n",
        "for (i in 1:nsim) {\n",
        "  qsim[[i]] <-\n",
        "    bind_cols(\n",
        "      player = 1:nplay,\n",
        "      e1 = sample(1:nplay, replace = FALSE),\n",
        "      e2 = sample(1:nplay, replace = FALSE),\n",
        "      e3 = sample(1:nplay, replace = FALSE)\n",
        "    ) %>%\n",
        "    mutate(sim = i)\n",
        "}\n",
        "\n",
        "qual_sum <- bind_rows(qsim)\n",
        "\n",
        "qual_sum <- qual_sum %>% \n",
        "  mutate(qual_score = e1 + e2 + e3) %>% \n",
        "  group_by(sim) %>% \n",
        "  arrange(qual_score, .by_group = TRUE) %>% \n",
        "  mutate(qual_rank = row_number()) %>%\n",
        "  ungroup()"
      ],
      "execution_count": null,
      "outputs": []
    },
    {
      "cell_type": "code",
      "metadata": {
        "colab": {
          "base_uri": "https://localhost:8080/",
          "height": 472
        },
        "id": "rg0MZX7YOnNM",
        "outputId": "077b961c-a5f1-4a35-bc34-4a61a54b8a53"
      },
      "source": [
        "qual_sum %>%\n",
        "  ggplot(aes(qual_score)) +\n",
        "  geom_histogram(color = \"white\")\n",
        "# normal, compared to right-skewed when using product"
      ],
      "execution_count": null,
      "outputs": [
        {
          "output_type": "stream",
          "text": [
            "`stat_bin()` using `bins = 30`. Pick better value with `binwidth`.\n",
            "\n"
          ],
          "name": "stderr"
        },
        {
          "output_type": "display_data",
          "data": {
            "image/png": "[encoded data removed]",
            "text/plain": [
              "plot without title"
            ]
          },
          "metadata": {
            "tags": [],
            "image/png": {
              "width": 420,
              "height": 420
            }
          }
        }
      ]
    },
    {
      "cell_type": "markdown",
      "metadata": {
        "id": "Ap9ttv0qO3ar"
      },
      "source": [
        "Answer the same questions as the product case"
      ]
    },
    {
      "cell_type": "code",
      "metadata": {
        "colab": {
          "base_uri": "https://localhost:8080/",
          "height": 33
        },
        "id": "s6UqJk6PO90W",
        "outputId": "613dd872-e034-4b5a-8a9e-1a9c28face4d"
      },
      "source": [
        "# advancing given winning first event\n",
        "qual_sum %>% \n",
        "  filter(e1 == 1 & qual_rank <= 8) %>% \n",
        "  nrow()"
      ],
      "execution_count": null,
      "outputs": [
        {
          "output_type": "display_data",
          "data": {
            "text/plain": [
              "[1] 7733"
            ],
            "text/latex": "7733",
            "text/markdown": "7733",
            "text/html": [
              "7733"
            ]
          },
          "metadata": {
            "tags": []
          }
        }
      ]
    },
    {
      "cell_type": "markdown",
      "metadata": {
        "id": "dzTa7LbmPIaJ"
      },
      "source": [
        "So only 0.7733, compared to almost perfect"
      ]
    },
    {
      "cell_type": "code",
      "metadata": {
        "colab": {
          "base_uri": "https://localhost:8080/",
          "height": 66
        },
        "id": "vKbS6ZmRPYwt",
        "outputId": "adfb327a-8d63-44d2-a607-c46f5dd17502"
      },
      "source": [
        "# advancing given winning any event\n",
        "qual_sum %>% \n",
        "  filter((e1 == 1 | e2 == 1 | e3 == 1) & qual_rank <= 8) %>% \n",
        "  nrow()\n",
        "qual_sum %>% \n",
        "  filter(e1 == 1 | e2 == 1 | e3 == 1) %>% \n",
        "  nrow()\n",
        "21990/28569"
      ],
      "execution_count": null,
      "outputs": [
        {
          "output_type": "display_data",
          "data": {
            "text/plain": [
              "[1] 21990"
            ],
            "text/latex": "21990",
            "text/markdown": "21990",
            "text/html": [
              "21990"
            ]
          },
          "metadata": {
            "tags": []
          }
        },
        {
          "output_type": "display_data",
          "data": {
            "text/plain": [
              "[1] 28569"
            ],
            "text/latex": "28569",
            "text/markdown": "28569",
            "text/html": [
              "28569"
            ]
          },
          "metadata": {
            "tags": []
          }
        },
        {
          "output_type": "display_data",
          "data": {
            "text/plain": [
              "[1] 0.7697154"
            ],
            "text/latex": "0.769715425811194",
            "text/markdown": "0.769715425811194",
            "text/html": [
              "0.769715425811194"
            ]
          },
          "metadata": {
            "tags": []
          }
        }
      ]
    },
    {
      "cell_type": "code",
      "metadata": {
        "colab": {
          "base_uri": "https://localhost:8080/",
          "height": 33
        },
        "id": "XQ2v6NyvQpUZ",
        "outputId": "b3e89c78-fd5d-4ec9-902f-0b9ec5d9dbcb"
      },
      "source": [
        "# advancing given finishing last in first event\n",
        "qual_sum %>% \n",
        "  filter(e1 == 20 & qual_rank <= 8) %>% \n",
        "  nrow()/10000"
      ],
      "execution_count": null,
      "outputs": [
        {
          "output_type": "display_data",
          "data": {
            "text/plain": [
              "[1] 0.0894"
            ],
            "text/latex": "0.0894",
            "text/markdown": "0.0894",
            "text/html": [
              "0.0894"
            ]
          },
          "metadata": {
            "tags": []
          }
        }
      ]
    },
    {
      "cell_type": "code",
      "metadata": {
        "colab": {
          "base_uri": "https://localhost:8080/",
          "height": 66
        },
        "id": "dW1tlHJ6QRDq",
        "outputId": "81cbb326-2f47-498c-ae43-0e42205cdc32"
      },
      "source": [
        "# advancing given finishing last in any even\n",
        "qual_sum %>% \n",
        "  filter((e1 == 20 | e2 == 20 | e3 == 20) & qual_rank <= 8) %>% \n",
        "  nrow()\n",
        "qual_sum %>% \n",
        "  filter(e1 == 20 | e2 == 20 | e3 == 20) %>% \n",
        "  nrow()\n",
        "2509/28514"
      ],
      "execution_count": null,
      "outputs": [
        {
          "output_type": "display_data",
          "data": {
            "text/plain": [
              "[1] 2509"
            ],
            "text/latex": "2509",
            "text/markdown": "2509",
            "text/html": [
              "2509"
            ]
          },
          "metadata": {
            "tags": []
          }
        },
        {
          "output_type": "display_data",
          "data": {
            "text/plain": [
              "[1] 28514"
            ],
            "text/latex": "28514",
            "text/markdown": "28514",
            "text/html": [
              "28514"
            ]
          },
          "metadata": {
            "tags": []
          }
        },
        {
          "output_type": "display_data",
          "data": {
            "text/plain": [
              "[1] 0.08799186"
            ],
            "text/latex": "0.0879918636459283",
            "text/markdown": "0.0879918636459283",
            "text/html": [
              "0.0879918636459283"
            ]
          },
          "metadata": {
            "tags": []
          }
        }
      ]
    },
    {
      "cell_type": "code",
      "metadata": {
        "colab": {
          "base_uri": "https://localhost:8080/",
          "height": 334
        },
        "id": "GjrzHKJISAVD",
        "outputId": "19d200c9-183d-46df-b0d2-77bcb82107ec"
      },
      "source": [
        "# advancing score\n",
        "qual_sum %>% \n",
        "  filter(qual_rank <= 8) %>% \n",
        "  group_by(qual_rank) %>% \n",
        "  summarize(avg_adv_score = mean(qual_score))\n",
        "# about 28 for rank 8"
      ],
      "execution_count": null,
      "outputs": [
        {
          "output_type": "display_data",
          "data": {
            "text/plain": [
              "  qual_rank avg_adv_score\n",
              "1 1         12.8094      \n",
              "2 2         16.9001      \n",
              "3 3         19.6372      \n",
              "4 4         21.7334      \n",
              "5 5         23.5395      \n",
              "6 6         25.1608      \n",
              "7 7         26.6765      \n",
              "8 8         28.1032      "
            ],
            "text/latex": "A tibble: 8 × 2\n\\begin{tabular}{ll}\n qual\\_rank & avg\\_adv\\_score\\\\\n <int> & <dbl>\\\\\n\\hline\n\t 1 & 12.8094\\\\\n\t 2 & 16.9001\\\\\n\t 3 & 19.6372\\\\\n\t 4 & 21.7334\\\\\n\t 5 & 23.5395\\\\\n\t 6 & 25.1608\\\\\n\t 7 & 26.6765\\\\\n\t 8 & 28.1032\\\\\n\\end{tabular}\n",
            "text/markdown": "\nA tibble: 8 × 2\n\n| qual_rank &lt;int&gt; | avg_adv_score &lt;dbl&gt; |\n|---|---|\n| 1 | 12.8094 |\n| 2 | 16.9001 |\n| 3 | 19.6372 |\n| 4 | 21.7334 |\n| 5 | 23.5395 |\n| 6 | 25.1608 |\n| 7 | 26.6765 |\n| 8 | 28.1032 |\n\n",
            "text/html": [
              "<table class=\"dataframe\">\n",
              "<caption>A tibble: 8 × 2</caption>\n",
              "<thead>\n",
              "\t<tr><th scope=col>qual_rank</th><th scope=col>avg_adv_score</th></tr>\n",
              "\t<tr><th scope=col>&lt;int&gt;</th><th scope=col>&lt;dbl&gt;</th></tr>\n",
              "</thead>\n",
              "<tbody>\n",
              "\t<tr><td>1</td><td>12.8094</td></tr>\n",
              "\t<tr><td>2</td><td>16.9001</td></tr>\n",
              "\t<tr><td>3</td><td>19.6372</td></tr>\n",
              "\t<tr><td>4</td><td>21.7334</td></tr>\n",
              "\t<tr><td>5</td><td>23.5395</td></tr>\n",
              "\t<tr><td>6</td><td>25.1608</td></tr>\n",
              "\t<tr><td>7</td><td>26.6765</td></tr>\n",
              "\t<tr><td>8</td><td>28.1032</td></tr>\n",
              "</tbody>\n",
              "</table>\n"
            ]
          },
          "metadata": {
            "tags": []
          }
        }
      ]
    },
    {
      "cell_type": "code",
      "metadata": {
        "colab": {
          "base_uri": "https://localhost:8080/",
          "height": 856
        },
        "id": "vDVIoEgcQ0rD",
        "outputId": "175dc860-b5ad-46d2-d0b6-b81d56d56b67"
      },
      "source": [
        "qual_sum %>% \n",
        "  ggplot(aes(x = qual_score, y = factor(qual_rank))) +\n",
        "  geom_boxplot()\n",
        "qual_sum %>% \n",
        "  ggplot(aes(x = qual_score, y = factor(qual_rank))) +\n",
        "  geom_density_ridges(bandwidth = 0.6, rel_min_height = 0.01)"
      ],
      "execution_count": null,
      "outputs": [
        {
          "output_type": "display_data",
          "data": {
            "image/png": "[encoded data removed]",
            "text/plain": [
              "plot without title"
            ]
          },
          "metadata": {
            "tags": [],
            "image/png": {
              "width": 420,
              "height": 420
            }
          }
        },
        {
          "output_type": "display_data",
          "data": {
            "image/png": "[encoded data removed]",
            "text/plain": [
              "plot without title"
            ]
          },
          "metadata": {
            "tags": [],
            "image/png": {
              "width": 420,
              "height": 420
            }
          }
        }
      ]
    },
    {
      "cell_type": "code",
      "metadata": {
        "id": "pLoqP1NAm4kZ"
      },
      "source": [
        "# final\n",
        "set.seed(1)\n",
        "nsim <- 10000\n",
        "nplay <- 8\n",
        "fsim <- list()\n",
        "for (i in 1:nsim) {\n",
        "  fsim[[i]] <-\n",
        "    bind_cols(\n",
        "      player = 1:nplay,\n",
        "      e1 = sample(1:nplay, replace = FALSE),\n",
        "      e2 = sample(1:nplay, replace = FALSE),\n",
        "      e3 = sample(1:nplay, replace = FALSE)\n",
        "    ) %>%\n",
        "    mutate(sim = i)\n",
        "}\n",
        "\n",
        "final_sum <- bind_rows(fsim)\n",
        "\n",
        "final_sum <- final_sum %>% \n",
        "  mutate(final_score = e1 + e2 + e3) %>% \n",
        "  group_by(sim) %>% \n",
        "  arrange(final_score, .by_group = TRUE) %>% \n",
        "  mutate(final_rank = row_number()) %>%\n",
        "  ungroup()"
      ],
      "execution_count": null,
      "outputs": []
    },
    {
      "cell_type": "code",
      "metadata": {
        "colab": {
          "base_uri": "https://localhost:8080/",
          "height": 66
        },
        "id": "aRCEN7UfnbJx",
        "outputId": "21d1a15f-05a0-460b-b0d6-2aa51a640745"
      },
      "source": [
        "# winning a medal given winning any event\n",
        "final_sum %>% \n",
        "  filter(e1 == 1 | e2 == 1 | e3 == 1) %>% \n",
        "  nrow()\n",
        "\n",
        "final_sum %>% \n",
        "  filter((e1 == 1 | e2 == 1 | e3 == 1) & final_rank <= 3) %>% \n",
        "  nrow()\n",
        "\n",
        "18248/26478"
      ],
      "execution_count": null,
      "outputs": [
        {
          "output_type": "display_data",
          "data": {
            "text/plain": [
              "[1] 26478"
            ],
            "text/latex": "26478",
            "text/markdown": "26478",
            "text/html": [
              "26478"
            ]
          },
          "metadata": {
            "tags": []
          }
        },
        {
          "output_type": "display_data",
          "data": {
            "text/plain": [
              "[1] 18248"
            ],
            "text/latex": "18248",
            "text/markdown": "18248",
            "text/html": [
              "18248"
            ]
          },
          "metadata": {
            "tags": []
          }
        },
        {
          "output_type": "display_data",
          "data": {
            "text/plain": [
              "[1] 0.6891759"
            ],
            "text/latex": "0.689175919631392",
            "text/markdown": "0.689175919631392",
            "text/html": [
              "0.689175919631392"
            ]
          },
          "metadata": {
            "tags": []
          }
        }
      ]
    },
    {
      "cell_type": "code",
      "metadata": {
        "colab": {
          "base_uri": "https://localhost:8080/",
          "height": 33
        },
        "id": "fbFaAd6hoEpa",
        "outputId": "03d5ed55-3fc3-4d86-df09-de2b7febd2e7"
      },
      "source": [
        "# winning a medal given winning first event (= intersect / first event)\n",
        "final_sum %>% \n",
        "  filter(e1 == 1 & final_rank <= 3) %>% \n",
        "  nrow()/10000"
      ],
      "execution_count": null,
      "outputs": [
        {
          "output_type": "display_data",
          "data": {
            "text/plain": [
              "[1] 0.7224"
            ],
            "text/latex": "0.7224",
            "text/markdown": "0.7224",
            "text/html": [
              "0.7224"
            ]
          },
          "metadata": {
            "tags": []
          }
        }
      ]
    },
    {
      "cell_type": "code",
      "metadata": {
        "colab": {
          "base_uri": "https://localhost:8080/",
          "height": 436
        },
        "id": "uK9boSi0pLHn",
        "outputId": "a830220b-0691-4b1f-9fc0-ccc406f5eaad"
      },
      "source": [
        "# distribution of first place scores\n",
        "final_sum %>% \n",
        "  filter(final_rank == 1) %>% \n",
        "  ggplot(aes(final_score)) + \n",
        "  geom_histogram(bins = 10, color = \"gray\")"
      ],
      "execution_count": null,
      "outputs": [
        {
          "output_type": "display_data",
          "data": {
            "image/png": "[encoded data removed]",
            "text/plain": [
              "plot without title"
            ]
          },
          "metadata": {
            "tags": [],
            "image/png": {
              "width": 420,
              "height": 420
            }
          }
        }
      ]
    },
    {
      "cell_type": "code",
      "metadata": {
        "colab": {
          "base_uri": "https://localhost:8080/",
          "height": 754
        },
        "id": "8K138TLGpjpg",
        "outputId": "bee06b31-4065-4983-a74c-b333285504da"
      },
      "source": [
        "# avg score for each rank. \n",
        "final_sum %>% \n",
        "  group_by(final_rank) %>% \n",
        "  summarize(avg_score = mean(final_score))\n",
        "\n",
        "final_sum %>% \n",
        "  ggplot(aes(x = final_score, y = factor(final_rank))) +\n",
        "  geom_boxplot()"
      ],
      "execution_count": null,
      "outputs": [
        {
          "output_type": "display_data",
          "data": {
            "text/plain": [
              "  final_rank avg_score\n",
              "1 1           7.4880  \n",
              "2 2           9.7943  \n",
              "3 3          11.3969  \n",
              "4 4          12.8071  \n",
              "5 5          14.1613  \n",
              "6 6          15.5917  \n",
              "7 7          17.2198  \n",
              "8 8          19.5409  "
            ],
            "text/latex": "A tibble: 8 × 2\n\\begin{tabular}{ll}\n final\\_rank & avg\\_score\\\\\n <int> & <dbl>\\\\\n\\hline\n\t 1 &  7.4880\\\\\n\t 2 &  9.7943\\\\\n\t 3 & 11.3969\\\\\n\t 4 & 12.8071\\\\\n\t 5 & 14.1613\\\\\n\t 6 & 15.5917\\\\\n\t 7 & 17.2198\\\\\n\t 8 & 19.5409\\\\\n\\end{tabular}\n",
            "text/markdown": "\nA tibble: 8 × 2\n\n| final_rank &lt;int&gt; | avg_score &lt;dbl&gt; |\n|---|---|\n| 1 |  7.4880 |\n| 2 |  9.7943 |\n| 3 | 11.3969 |\n| 4 | 12.8071 |\n| 5 | 14.1613 |\n| 6 | 15.5917 |\n| 7 | 17.2198 |\n| 8 | 19.5409 |\n\n",
            "text/html": [
              "<table class=\"dataframe\">\n",
              "<caption>A tibble: 8 × 2</caption>\n",
              "<thead>\n",
              "\t<tr><th scope=col>final_rank</th><th scope=col>avg_score</th></tr>\n",
              "\t<tr><th scope=col>&lt;int&gt;</th><th scope=col>&lt;dbl&gt;</th></tr>\n",
              "</thead>\n",
              "<tbody>\n",
              "\t<tr><td>1</td><td> 7.4880</td></tr>\n",
              "\t<tr><td>2</td><td> 9.7943</td></tr>\n",
              "\t<tr><td>3</td><td>11.3969</td></tr>\n",
              "\t<tr><td>4</td><td>12.8071</td></tr>\n",
              "\t<tr><td>5</td><td>14.1613</td></tr>\n",
              "\t<tr><td>6</td><td>15.5917</td></tr>\n",
              "\t<tr><td>7</td><td>17.2198</td></tr>\n",
              "\t<tr><td>8</td><td>19.5409</td></tr>\n",
              "</tbody>\n",
              "</table>\n"
            ]
          },
          "metadata": {
            "tags": []
          }
        },
        {
          "output_type": "display_data",
          "data": {
            "image/png": "[encoded data removed]",
            "text/plain": [
              "plot without title"
            ]
          },
          "metadata": {
            "tags": [],
            "image/png": {
              "width": 420,
              "height": 420
            }
          }
        }
      ]
    }
  ]
}